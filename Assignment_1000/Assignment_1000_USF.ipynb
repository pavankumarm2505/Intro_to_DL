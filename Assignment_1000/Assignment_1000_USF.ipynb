{
  "cells": [
    {
      "cell_type": "markdown",
      "metadata": {
        "id": "view-in-github",
        "colab_type": "text"
      },
      "source": [
        "<a href=\"https://colab.research.google.com/github/pavankumarm2505/Intro_to_DL/blob/main/Assignment_1000/Assignment_1000_USF.ipynb\" target=\"_parent\"><img src=\"https://colab.research.google.com/assets/colab-badge.svg\" alt=\"Open In Colab\"/></a>"
      ]
    },
    {
      "cell_type": "markdown",
      "metadata": {
        "id": "-C4rdQxKP7UT"
      },
      "source": [
        "# IST597 :Recurrent Neural Networks (RNNs) for sequence classification\n",
        "# Assignment 1000\n",
        "# Author:- Dr. Ankur Mali\n",
        "# Material designed for undergrad course on Deep Learning at USF\n",
        "\n",
        "We will be  building a RNN for sentiment analysis on IMDB movie reviews ( [stanford_imdb](https://https://ai.stanford.edu/~amaas/data/sentiment/)). \n"
      ]
    },
    {
      "cell_type": "markdown",
      "source": [
        "# All necessary/required files are provided in the github folder. Download them and use it accordingly.\n",
        "## Start late and you won't be able to complete this assignment\n",
        "\n",
        "\n",
        "1. In this assignment you will learn about RNNs and how they can be used to perform sequence classification on IMDB dataset.\n",
        "2. I have created the code to train LSTM and RNN, similar to assignment 3 you will to some analysis on this assignment\n",
        "\n",
        "<font color='red'>Top 10 students, that complete this assignment and get highest accuracy on both RNN and LSTM will get some extra credits. To get extra credits, your assignments should be complete and bug free. </font>\n",
        "\n",
        "Now let's look at few tasks\n",
        "\n",
        "1. Both RNN and LSTM currently overfit the dataset. Your job is to avoid this overfitting\n",
        "\n",
        "# <font color='blue'>Task-1 - Regularization </font>\n",
        "\n",
        "1. Implement L1 or L2 regularization to avoid overfitting -- You can use inbuild function to achieve this\n",
        "2. Use dropout to avoid overfitting -- Remember you don't use dropout during validation and testing phase, thus one needs to switch it off during evaluation phase\n",
        "3. Compared L1/L2 with dropout. Explain which one is better and why\n",
        "4. Create predict function, similar to assignment-3 -- adapt it from the fit function.\n",
        "\n",
        "# <font color='blue'>Things to report </font>\n",
        "1. Perform hyper-parameter optimization. You will have 4 models, RNN + L1/L2, RNN + Dropout, LSTM + L1/L2, LSTM + Dropout -- minimum 4 settings per model\n",
        "2. Once you find your best model, train your model for minimum - 20 epochs\n",
        "3. Finally repeat this for min 5 trials and report average accuracy and standard error.\n",
        "4. For all 4 models, report confusion matrix -- Confusion matrix is calculated over 5 trials, thus mean over 5 trials\n",
        "5. Beside this, you will also report F1, precision and recall -- All these 3 metrics are measured over 5 trials, hence should be mean across trials.\n",
        "\n",
        "# <font color='red'> Rubric </font>\n",
        "1. If only one regularization is used (<font color='red'>-4 points</font>)\n",
        "2. Confusion matrix only reported for 1 trial (<font color='red'>-2 points</font>)\n",
        "3. Confusion matrix not implemented and reported (<font color='red'>-3 points</font>)\n",
        "4. F1,precisio and recall metrics missing (<font color='red'>-2 points</font>)\n",
        "5. Hyper-parameter optimization table missing (<font color='red'>-3 points</font>)\n",
        "6. No results on LSTM or RNN (<font color='red'>-6 points</font>)\n"
      ],
      "metadata": {
        "id": "kvBIRwF8J1g7"
      }
    },
    {
      "cell_type": "code",
      "execution_count": 3,
      "metadata": {
        "id": "rvcyRuYbP7UV"
      },
      "outputs": [],
      "source": [
        "import tensorflow as tf\n",
        "import pandas as pd\n",
        "import pickle\n",
        "import matplotlib.pyplot as plt\n",
        "\n",
        "%matplotlib inline\n",
        "tf.random.set_seed(16112)"
      ]
    },
    {
      "cell_type": "code",
      "execution_count": 4,
      "metadata": {
        "id": "ur6a2Sw5WJjM",
        "colab": {
          "base_uri": "https://localhost:8080/"
        },
        "outputId": "0dbdf423-6c32-4bf0-f23f-fe5b71d7b901"
      },
      "outputs": [
        {
          "output_type": "stream",
          "name": "stderr",
          "text": [
            "[nltk_data] Downloading package punkt to /root/nltk_data...\n",
            "[nltk_data]   Unzipping tokenizers/punkt.zip.\n"
          ]
        }
      ],
      "source": [
        "import sys\n",
        "sys.path.insert(1,'/content/')\n",
        "from data_utils import parse_imdb_sequence"
      ]
    },
    {
      "cell_type": "code",
      "execution_count": 5,
      "metadata": {
        "colab": {
          "base_uri": "https://localhost:8080/",
          "height": 452
        },
        "id": "CMNILJ0PP7UW",
        "outputId": "6d8188aa-7007-4f0a-9b1d-676adf31acc4"
      },
      "outputs": [
        {
          "output_type": "display_data",
          "data": {
            "text/plain": [
              "<Figure size 640x480 with 1 Axes>"
            ],
            "image/png": "[encoded data removed]"
          },
          "metadata": {}
        }
      ],
      "source": [
        "length_reviews = pickle.load(open('/content/length_reviews.pkl', 'rb'))\n",
        "pd.DataFrame(length_reviews, columns=['Length reviews']).hist(bins=100, color='blue');\n",
        "plt.grid(False);"
      ]
    },
    {
      "cell_type": "code",
      "source": [
        "full_train_dataset = tf.data.TFRecordDataset('/content/train.tfrecords')\n",
        "full_train_dataset = full_train_dataset.shuffle(buffer_size=1000)\n",
        "DATASET_SIZE = 25000\n",
        "train_size = int(0.9 * DATASET_SIZE)\n",
        "val_size = int(0.1 * DATASET_SIZE)\n",
        "train_dataset = full_train_dataset.take(train_size)\n",
        "val_dataset = full_train_dataset.skip(train_size)"
      ],
      "metadata": {
        "id": "PywOTZBrVbxT"
      },
      "execution_count": 6,
      "outputs": []
    },
    {
      "cell_type": "code",
      "source": [
        "print(train_dataset)\n",
        "print(val_dataset)"
      ],
      "metadata": {
        "colab": {
          "base_uri": "https://localhost:8080/"
        },
        "id": "ry15dvJGZZKe",
        "outputId": "6d99c395-cea5-454d-8364-a83c70fd60dc"
      },
      "execution_count": 7,
      "outputs": [
        {
          "output_type": "stream",
          "name": "stdout",
          "text": [
            "<_TakeDataset element_spec=TensorSpec(shape=(), dtype=tf.string, name=None)>\n",
            "<_SkipDataset element_spec=TensorSpec(shape=(), dtype=tf.string, name=None)>\n"
          ]
        }
      ]
    },
    {
      "cell_type": "code",
      "execution_count": 8,
      "metadata": {
        "id": "ijVfbU9jP7UY",
        "colab": {
          "base_uri": "https://localhost:8080/"
        },
        "outputId": "38c459b8-b6e8-4a99-d544-ad17a902bcf4"
      },
      "outputs": [
        {
          "output_type": "stream",
          "name": "stdout",
          "text": [
            "<_PaddedBatchDataset element_spec=(TensorSpec(shape=(None, None), dtype=tf.int64, name=None), TensorSpec(shape=(None,), dtype=tf.int64, name=None), TensorSpec(shape=(None,), dtype=tf.int64, name=None))>\n"
          ]
        }
      ],
      "source": [
        "train_dataset = train_dataset.map(parse_imdb_sequence).shuffle(buffer_size=10000)\n",
        "train_dataset = train_dataset.padded_batch(2048, padded_shapes=([None],[],[]))\n",
        "val_dataset = val_dataset.map(parse_imdb_sequence).shuffle(buffer_size=1000)\n",
        "val_dataset = val_dataset.padded_batch(2048, padded_shapes=([None],[],[]))\n",
        "test_dataset = tf.data.TFRecordDataset('/content/test.tfrecords')\n",
        "test_dataset = test_dataset.map(parse_imdb_sequence).shuffle(buffer_size=10000)\n",
        "test_dataset = test_dataset.padded_batch(512, padded_shapes=([None],[],[]))\n",
        "print(test_dataset)"
      ]
    },
    {
      "cell_type": "code",
      "execution_count": 9,
      "metadata": {
        "id": "-0boPqdDP7UY"
      },
      "outputs": [],
      "source": [
        "\n",
        "# Read the word vocabulary\n",
        "word2idx = pickle.load(open('/content/word2idx.pkl', 'rb'))"
      ]
    },
    {
      "cell_type": "markdown",
      "metadata": {
        "id": "7jVOSepgP7UY"
      },
      "source": [
        "## RNN model for sequence classification, compatible with Eager API \n",
        "----\n",
        "In the cell below, you can find the class that I have created for the RNN model. The API is very similar with one I created in the previous tutorial, except that now we track the accuracy of the model instead of the loss.\n",
        "\n",
        "The idea of the network is very simple. We simply take each word in the review, select its corresponding word embedding (initialized randomly in the beginning), and pass it through the RNN cell. We then take the output of the RNN cell at the end of the sequence and pass it through a dense layer (with ReLU activation) to obtain the final predictions. \n",
        "\n",
        "Like usually, the network inherits from tf.keras.Model in order to keep track of all variables and save/restore them easily.\n",
        "\n",
        "![img](https://github.com/pavankumarm2505/Intro_to_DL/blob/main/Assignment_1000/tutorials_graphics/rnn_imdb.png?raw=1)"
      ]
    },
    {
      "cell_type": "code",
      "execution_count": null,
      "metadata": {
        "id": "iUoWg4BSP7UY"
      },
      "outputs": [],
      "source": [
        "class RNNModel(tf.keras.Model):\n",
        "    def __init__(self, embedding_size=100, cell_size=64, dense_size=128, \n",
        "                 num_classes=2, vocabulary_size=None, rnn_cell='lstm',\n",
        "                 device='cpu:0', checkpoint_directory=None, checkpoint_prefix = None):\n",
        "        ''' Define the parameterized layers used during forward-pass, the device\n",
        "            where you would like to run the computation on and the checkpoint\n",
        "            directory. Additionaly, you can also modify the default size of the \n",
        "            network.\n",
        "            \n",
        "            Args:\n",
        "                embedding_size: the size of the word embedding.\n",
        "                cell_size: RNN cell size.\n",
        "                dense_size: the size of the dense layer.\n",
        "                num_classes: the number of labels in the network.\n",
        "                vocabulary_size: the size of the word vocabulary.\n",
        "                rnn_cell: string, either 'lstm' or 'ugrnn'.\n",
        "                device: string, 'cpu:n' or 'gpu:n' (n can vary). Default, 'cpu:0'.\n",
        "                checkpoint_directory: the directory where you would like to save or \n",
        "                                      restore a model.\n",
        "        '''\n",
        "        super(RNNModel, self).__init__()\n",
        "        \n",
        "        # Weights initializer function\n",
        "        w_initializer = tf.compat.v1.keras.initializers.glorot_uniform()\n",
        "    \n",
        "        # Biases initializer function\n",
        "        b_initializer = tf.zeros_initializer()\n",
        "        \n",
        "        # Initialize weights for word embeddings \n",
        "        self.embeddings = tf.keras.layers.Embedding(vocabulary_size, embedding_size, \n",
        "                                                    embeddings_initializer=w_initializer)\n",
        "        \n",
        "        # Dense layer initialization\n",
        "        self.dense_layer = tf.keras.layers.Dense(dense_size, activation=tf.nn.relu, \n",
        "                                                 kernel_initializer=w_initializer, \n",
        "                                                 bias_initializer=b_initializer,\n",
        "                                                kernel_regularizer = tf.keras.regularizers.l2(0.1))\n",
        "        # self.dense_layer = tf.keras.layers.Dense(dense_size, activation=tf.nn.relu, \n",
        "        #                                          kernel_initializer=w_initializer, \n",
        "        #                                          bias_initializer=b_initializer)\n",
        "        \n",
        "        # Predictions layer initialization\n",
        "        self.pred_layer = tf.keras.layers.Dense(num_classes, activation=None, \n",
        "                                                kernel_initializer=w_initializer, \n",
        "                                                bias_initializer=b_initializer)\n",
        "        \n",
        "        # Basic LSTM cell\n",
        "        if rnn_cell=='lstm':\n",
        "            self.rnn_cell = tf.compat.v1.nn.rnn_cell.BasicLSTMCell(cell_size)\n",
        "        # Else RNN cell\n",
        "        else:\n",
        "            self.rnn_cell = tf.compat.v1.nn.rnn_cell.BasicRNNCell(cell_size)\n",
        "            \n",
        "        # Define the device \n",
        "        self.device = device\n",
        "        \n",
        "        # Define the checkpoint directory\n",
        "        self.checkpoint_directory = checkpoint_directory\n",
        "        self.checkpoint_prefix = checkpoint_prefix\n",
        "        \n",
        "    def predict(self, X, seq_length, is_training):\n",
        "        '''\n",
        "        Predicts the probability of each class, based on the input sample.\n",
        "\n",
        "        Args:\n",
        "            X: 2D tensor of shape (batch_size, time_steps).\n",
        "            seq_length: the length of each sequence in the batch.\n",
        "            is_training: Boolean. Either the network is predicting in\n",
        "                         training mode or not.\n",
        "        '''\n",
        "        \n",
        "        # Get the number of samples within a batch\n",
        "        num_samples = tf.shape(X)[0]\n",
        "\n",
        "        # Initialize LSTM cell state with zeros\n",
        "        state = self.rnn_cell.zero_state(num_samples, dtype=tf.float32)\n",
        "        \n",
        "        # Get the embedding of each word in the sequence\n",
        "        embedded_words = self.embeddings(X)\n",
        "        \n",
        "        # Unstack the embeddings\n",
        "        unstacked_embeddings = tf.unstack(embedded_words, axis=1)\n",
        "        \n",
        "        # Iterate through each timestep and append the predictions\n",
        "        outputs = []\n",
        "        for input_step in unstacked_embeddings:\n",
        "            output, state = self.rnn_cell(input_step, state)\n",
        "            outputs.append(output)\n",
        "            \n",
        "        # Stack outputs to (batch_size, time_steps, cell_size)\n",
        "        outputs = tf.stack(outputs, axis=1)\n",
        "        \n",
        "        # Extract the output of the last time step, of each sample\n",
        "        idxs_last_output = tf.stack([tf.range(num_samples), \n",
        "                                     tf.cast(seq_length-1, tf.int32)], axis=1)\n",
        "        final_output = tf.gather_nd(outputs, idxs_last_output)\n",
        "        \n",
        "        # from tensorflow.keras.layers import Dropout\n",
        "        # # # Add dropout for regularization\n",
        "        # dropped_output = Dropout(rate=0.3)(final_output, training=is_training)\n",
        "        \n",
        "        # Pass the last cell state through a dense layer (ReLU activation)\n",
        "        dense = self.dense_layer(final_output)\n",
        "        # dense = self.dense_layer(dropped_output)\n",
        "        # Compute the unnormalized log probabilities\n",
        "        logits = self.pred_layer(dense)\n",
        "        return logits\n",
        "\n",
        "    @tf.function\n",
        "    def loss_fn(self, X, y, seq_length, is_training):\n",
        "        \"\"\" Defines the loss function used during \n",
        "            training.         \n",
        "        \"\"\"\n",
        "        preds = self.predict(X, seq_length, is_training)\n",
        "        loss = tf.nn.sparse_softmax_cross_entropy_with_logits(labels=y, logits=preds)\n",
        "        return loss\n",
        "\n",
        "    \n",
        "    @tf.function\n",
        "    def grads_fn(self, X, y, seq_length, is_training):\n",
        "        \"\"\" Dynamically computes the gradients of the loss value\n",
        "            with respect to the parameters of the model, in each\n",
        "            forward pass.\n",
        "        \"\"\"\n",
        "        with tf.GradientTape() as tape:\n",
        "            loss = self.loss_fn(X, y, seq_length, is_training)\n",
        "        return tape.gradient(loss, self.variables)\n",
        "\n",
        "    \n",
        "    @tf.function\n",
        "    def restore_model(self):\n",
        "        \"\"\" Function to restore trained model.\n",
        "        \"\"\"\n",
        "        with tf.device(self.device):\n",
        "            # Run the model once to initialize variables\n",
        "            dummy_input = tf.constant(tf.zeros((1,1)))\n",
        "            dummy_length = tf.constant(1, shape=(1,))\n",
        "            dummy_pred = self.predict(dummy_input, dummy_length, False)\n",
        "            # Restore the variables of the model\n",
        "            saver = tf.compat.v1.train.Saver(self.variables)\n",
        "            saver.restore(tf.train.latest_checkpoint\n",
        "                          (self.checkpoint_directory))\n",
        "    @tf.function\n",
        "    def save_model(self, global_step=0):\n",
        "        \"\"\" Function to save trained model.\n",
        "        \"\"\"\n",
        "        tf.compat.v1.train.Saver(self.variables).save(save_path=self.checkpoint_directory, \n",
        "                                       global_step=global_step)   \n",
        "        \n",
        "    def fit(self, training_data, eval_data, optimizer, num_epochs=500, \n",
        "            early_stopping_rounds=10, verbose=10, train_from_scratch=False, ckpoint=None):\n",
        "        \"\"\" Function to train the model, using the selected optimizer and\n",
        "            for the desired number of epochs. You can either train from scratch\n",
        "            or load the latest model trained. Early stopping is used in order to\n",
        "            mitigate the risk of overfitting the network.\n",
        "            \n",
        "            Args:\n",
        "                training_data: the data you would like to train the model on.\n",
        "                                Must be in the tf.data.Dataset format.\n",
        "                eval_data: the data you would like to evaluate the model on.\n",
        "                            Must be in the tf.data.Dataset format.\n",
        "                optimizer: the optimizer used during training.\n",
        "                num_epochs: the maximum number of iterations you would like to \n",
        "                            train the model.\n",
        "                early_stopping_rounds: stop training if the accuracy on the eval \n",
        "                                       dataset does not increase after n epochs.\n",
        "                verbose: int. Specify how often to print the loss value of the network.\n",
        "                train_from_scratch: boolean. Whether to initialize variables of the\n",
        "                                    the last trained model or initialize them\n",
        "                                    randomly.\n",
        "        \"\"\" \n",
        "    \n",
        "        if train_from_scratch==False:\n",
        "            self.restore_model()\n",
        "        \n",
        "        # Initialize best_acc. This variable will store the highest accuracy\n",
        "        # on the eval dataset.\n",
        "        best_acc = 0\n",
        "        \n",
        "        # Initialize classes to update the mean accuracy of train and eval\n",
        "        train_acc = tf.keras.metrics.Accuracy('train_acc')\n",
        "        eval_acc = tf.keras.metrics.Accuracy('eval_acc')\n",
        "        \n",
        "        \n",
        "        # Initialize dictionary to store the accuracy history\n",
        "        self.history = {}\n",
        "        self.history['train_acc'] = []\n",
        "        self.history['eval_acc'] = []\n",
        "        \n",
        "        # Begin training\n",
        "        with tf.device(self.device):\n",
        "            for i in range(num_epochs):\n",
        "                # Training with gradient descent\n",
        "                for step, (X, y, seq_length) in enumerate(training_data):\n",
        "                    grads = self.grads_fn(X, y, seq_length, True)\n",
        "                    optimizer.apply_gradients(zip(grads, self.variables))\n",
        "                    \n",
        "                # Check accuracy train dataset\n",
        "                for step, (X, y, seq_length) in enumerate(training_data):\n",
        "                    logits = self.predict(X, seq_length, False)\n",
        "                    logits = tf.nn.softmax(logits)\n",
        "                    preds = tf.argmax(logits, axis=1)\n",
        "                    train_acc(preds, y)\n",
        "                self.history['train_acc'].append(train_acc.result().numpy())\n",
        "                # Reset metrics\n",
        "                train_acc.reset_states()\n",
        "\n",
        "                # Check accuracy eval dataset\n",
        "                for step, (X, y, seq_length) in enumerate(eval_data):\n",
        "                    logits = self.predict(X, seq_length, False)\n",
        "                    logits = tf.nn.softmax(logits)\n",
        "                    preds = tf.argmax(logits, axis=1)\n",
        "                    eval_acc(preds, y)\n",
        "                self.history['eval_acc'].append(eval_acc.result().numpy())\n",
        "                # Reset metrics\n",
        "                eval_acc.reset_states()\n",
        "                \n",
        "                # Print train and eval accuracy\n",
        "                if (i==0) | ((i+1)%verbose==0):\n",
        "                    print('Train accuracy at epoch %d: ' %(i+1), self.history['train_acc'][-1])\n",
        "                    print('Eval accuracy at epoch %d: ' %(i+1), self.history['eval_acc'][-1])\n",
        "                    ckpoint.save(file_prefix=self.checkpoint_prefix)\n",
        "\n",
        "                # Check for early stopping\n",
        "                if self.history['eval_acc'][-1]>best_acc:\n",
        "                    best_acc = self.history['eval_acc'][-1]\n",
        "                    count = early_stopping_rounds\n",
        "                else:\n",
        "                    count -= 1\n",
        "                if count==0:\n",
        "                    break  \n",
        "    def predict_fc(self, test_data):\n",
        "      # Initialize classes to update the mean loss of train and eval\n",
        "        \n",
        "        test_acc = tf.keras.metrics.Mean('test_acc')\n",
        "        self.history = {}\n",
        "        self.history['test_acc'] = []\n",
        "        \n",
        "        # Begin training\n",
        "        with tf.device(self.device):\n",
        "          for step, (X, y, seq_length) in enumerate(test_data):\n",
        "                    logits = self.predict(X, seq_length, False)\n",
        "                    logits = tf.nn.softmax(logits)\n",
        "                    preds = tf.argmax(logits, axis=1)\n",
        "                    test_acc(preds, y)\n",
        "          self.history['test_acc'].append(test_acc.result().numpy())\n",
        "        print(\"test_accuracy %d\", test_acc.result())\n",
        "        \n"
      ]
    },
    {
      "cell_type": "markdown",
      "metadata": {
        "id": "Pq07GFNrP7UZ"
      },
      "source": [
        "## Train model with gradient descent and early stopping\n",
        "----"
      ]
    },
    {
      "cell_type": "markdown",
      "metadata": {
        "id": "VIuGUj5CP7UZ"
      },
      "source": [
        "### Model training with simple RNN cells\n",
        "----"
      ]
    },
    {
      "cell_type": "code",
      "execution_count": null,
      "metadata": {
        "id": "uqk_DJZ3P7Ua"
      },
      "outputs": [],
      "source": [
        "# Specify the path where you want to save/restore the trained variables.\n",
        "import os\n",
        "\n",
        "\n",
        "\n",
        "\n",
        "checkpoint_directory = '/content/models_checkpoints/ImdbRNN/'\n",
        "checkpoint_prefix = os.path.join(checkpoint_directory, \"ckpt\")\n",
        "\n",
        "# Use the GPU if available.\n",
        "device = 'gpu:0'\n",
        "\n",
        "# Define optimizer.\n",
        "optimizer = tf.compat.v1.train.RMSPropOptimizer(learning_rate=1e-4)\n",
        "\n",
        "# Instantiate model. This doesn't initialize the variables yet.\n",
        "rnn_model = RNNModel(vocabulary_size=len(word2idx), rnn_cell='rnn', device=device,\n",
        "                      checkpoint_directory=checkpoint_directory, checkpoint_prefix = checkpoint_prefix)\n",
        "\n",
        "checkpoint = tf.train.Checkpoint(optimizer=optimizer, model=rnn_model)\n",
        "checkpoint.save(file_prefix=checkpoint_prefix)"
      ]
    },
    {
      "cell_type": "code",
      "execution_count": null,
      "metadata": {
        "id": "IXvPU8_gP7Ua"
      },
      "outputs": [],
      "source": [
        "# Train model\n",
        "rnn_model.fit(train_dataset,val_dataset, optimizer, num_epochs=20, \n",
        "                early_stopping_rounds=5, verbose=1, train_from_scratch=True, ckpoint = checkpoint)"
      ]
    },
    {
      "cell_type": "code",
      "source": [
        "### Create a predict function and test on test_dataset for RNN\n",
        "# TODO\n",
        "\n",
        "##created the function in the RNN model."
      ],
      "metadata": {
        "id": "wls4vS77a2Go"
      },
      "execution_count": 11,
      "outputs": []
    },
    {
      "cell_type": "code",
      "source": [
        "rnn_model.predict_fc(test_dataset)"
      ],
      "metadata": {
        "id": "BY60vAl89WIy"
      },
      "execution_count": null,
      "outputs": []
    },
    {
      "cell_type": "code",
      "source": [
        "class_names = ['positive','negative']\n",
        "\n",
        "from typing import List, Optional, Sequence\n",
        "\n",
        "import matplotlib.pyplot as plt\n",
        "import numpy as np\n",
        "import seaborn as sns\n",
        "from sklearn.metrics import confusion_matrix\n",
        "\n",
        "def plot_confusion_matrix(\n",
        "    true: np.ndarray,\n",
        "    pred: np.ndarray,\n",
        "    labels: Optional[List[str]] = None,\n",
        "    normalize: str = \"true\",\n",
        "    figsize: Sequence[int] = (5, 4),\n",
        ") -> np.ndarray:\n",
        "    \"\"\"Plot confusion matrix\n",
        "    Args:\n",
        "        true (numpy.array): true label\n",
        "        pred (numpy.array): predicted label\n",
        "        labels (List[str]), default=None] list of label names\n",
        "        normalize (str, default=\"true): whether to normalize scores, chosen from \"true\" or \"false\"\n",
        "    Returns:\n",
        "        fig: figure of confusion matrix\n",
        "    \"\"\"\n",
        "    cm = confusion_matrix(true, pred, normalize=normalize)\n",
        "    fig = plt.figure(figsize=figsize)\n",
        "    sns.heatmap(\n",
        "        cm,\n",
        "        annot=True,\n",
        "        cmap=\"Blues\",\n",
        "        square=True,\n",
        "        vmin=0,\n",
        "        vmax=1.0,\n",
        "        xticklabels=labels,\n",
        "        yticklabels=labels,\n",
        "    )\n",
        "    plt.xlabel(\"Predicted label\")\n",
        "    plt.ylabel(\"True label\")\n",
        "    plt.title(\"Normalized confusion matrix\")\n",
        "\n",
        "    plt.close()\n",
        "    return fig"
      ],
      "metadata": {
        "id": "z-BuUQwjEUAm"
      },
      "execution_count": 13,
      "outputs": []
    },
    {
      "cell_type": "code",
      "source": [],
      "metadata": {
        "id": "A0gIM18TEgal"
      },
      "execution_count": 14,
      "outputs": []
    },
    {
      "cell_type": "code",
      "source": [
        "num_test_samples = tf.data.Dataset.cardinality(test_dataset)\n",
        "\n",
        "\n",
        "test_dataset = test_dataset.shuffle(buffer_size=1000)\n",
        "average=np.zeros((25000, 1))\n",
        "\n",
        "final_out = np.array([])\n",
        "reshaped_array = np.array([])\n",
        "\n",
        "\n",
        "for (X, y, seq_length) in test_dataset:\n",
        "\n",
        "   \n",
        "    preds = rnn_model.predict(X, seq_length, False)\n",
        "\n",
        "    \n",
        "    preds = tf.nn.softmax(preds)\n",
        "\n",
        "    \n",
        "    predicted_label = tf.argmax(preds, axis=1)\n",
        "\n",
        "    \n",
        "    final_out = np.concatenate([final_out, predicted_label], axis=0)\n",
        "\n",
        "    \n",
        "    reshaped_array = np.concatenate([reshaped_array, y], 0)\n",
        "# Plot the confusion matrix\n",
        "concatenated_tensor = tf.convert_to_tensor(final_out,dtype=tf.int64)\n",
        "indices = np.arange(10)\n",
        "predictions = indices[concatenated_tensor.numpy()]\n",
        "average = np.add(average,predictions)"
      ],
      "metadata": {
        "id": "9-TipjozEkCS"
      },
      "execution_count": 15,
      "outputs": []
    },
    {
      "cell_type": "code",
      "source": [
        "import scipy.sparse as sp\n",
        "\n",
        "new_average = sp.csr_matrix(average)\n",
        "new_average = new_average/5.0\n",
        "average = new_average.toarray()"
      ],
      "metadata": {
        "id": "SwV-KEp5QxyU"
      },
      "execution_count": null,
      "outputs": []
    },
    {
      "cell_type": "code",
      "source": [
        "plot_confusion_matrix(reshaped_array, final_out, labels=class_names, figsize=(4, 4))"
      ],
      "metadata": {
        "id": "A_Ev83Cec7-6"
      },
      "execution_count": null,
      "outputs": []
    },
    {
      "cell_type": "code",
      "source": [
        "from sklearn.metrics import classification_report\n",
        "\n",
        "# Print classification report\n",
        "print(classification_report(reshaped_array, final_out, target_names=class_names))"
      ],
      "metadata": {
        "id": "45IN588kmn8J"
      },
      "execution_count": null,
      "outputs": []
    },
    {
      "cell_type": "markdown",
      "metadata": {
        "id": "JmzXh0ljP7Ua"
      },
      "source": [
        "### Model training with LSTM cells \n",
        "---"
      ]
    },
    {
      "cell_type": "code",
      "execution_count": null,
      "metadata": {
        "id": "TmjyKjDYP7Ub"
      },
      "outputs": [],
      "source": [
        "# Define optimizer.\n",
        "checkpoint_directory = '/content/models_checkpoints/ImdbLSTM/'\n",
        "checkpoint_prefix = os.path.join(checkpoint_directory, \"ckpt\")\n",
        "optimizer = tf.compat.v1.train.RMSPropOptimizer(learning_rate=1e-4)\n",
        "# optimizer = tf.compat.v1.train.RMSPropOptimizer(learning_rate=1e-4, decay=0.9, momentum=0.0)\n",
        "\n",
        "# Instantiate model. This doesn't initialize the variables yet.\n",
        "lstm_model = RNNModel(vocabulary_size=len(word2idx), rnn_cell='lstm', \n",
        "                       device=device, checkpoint_directory=checkpoint_directory, checkpoint_prefix = checkpoint_prefix)"
      ]
    },
    {
      "cell_type": "code",
      "execution_count": null,
      "metadata": {
        "id": "zd5bDpAzP7Ub"
      },
      "outputs": [],
      "source": [
        "# Train model\n",
        "checkpoint = tf.train.Checkpoint(optimizer=optimizer, model=lstm_model)\n",
        "checkpoint.save(file_prefix=checkpoint_prefix)\n",
        "lstm_model.fit(train_dataset, val_dataset, optimizer, num_epochs=20, \n",
        "                early_stopping_rounds=5, verbose=1, train_from_scratch=True,ckpoint = checkpoint)"
      ]
    },
    {
      "cell_type": "code",
      "source": [
        "class_names = ['positive','negative']\n",
        "\n",
        "from typing import List, Optional, Sequence\n",
        "\n",
        "import matplotlib.pyplot as plt\n",
        "import numpy as np\n",
        "import seaborn as sns\n",
        "from sklearn.metrics import confusion_matrix\n",
        "\n",
        "def plot_confusion_matrix(\n",
        "    true: np.ndarray,\n",
        "    pred: np.ndarray,\n",
        "    labels: Optional[List[str]] = None,\n",
        "    normalize: str = \"true\",\n",
        "    figsize: Sequence[int] = (5, 4),\n",
        ") -> np.ndarray:\n",
        "    \"\"\"Plot confusion matrix\n",
        "    Args:\n",
        "        true (numpy.array): true label\n",
        "        pred (numpy.array): predicted label\n",
        "        labels (List[str]), default=None] list of label names\n",
        "        normalize (str, default=\"true): whether to normalize scores, chosen from \"true\" or \"false\"\n",
        "    Returns:\n",
        "        fig: figure of confusion matrix\n",
        "    \"\"\"\n",
        "    cm = confusion_matrix(true, pred, normalize=normalize)\n",
        "    fig = plt.figure(figsize=figsize)\n",
        "    sns.heatmap(\n",
        "        cm,\n",
        "        annot=True,\n",
        "        cmap=\"Blues\",\n",
        "        square=True,\n",
        "        vmin=0,\n",
        "        vmax=1.0,\n",
        "        xticklabels=labels,\n",
        "        yticklabels=labels,\n",
        "    )\n",
        "    plt.xlabel(\"Predicted label\")\n",
        "    plt.ylabel(\"True label\")\n",
        "    plt.title(\"Normalized confusion matrix\")\n",
        "\n",
        "    plt.close()\n",
        "    return fig"
      ],
      "metadata": {
        "id": "fngl0drvbQGd"
      },
      "execution_count": null,
      "outputs": []
    },
    {
      "cell_type": "code",
      "source": [
        "num_test_samples = tf.data.Dataset.cardinality(test_dataset)\n",
        "\n",
        "\n",
        "test_dataset = test_dataset.shuffle(buffer_size=1000)\n",
        "average=np.zeros((25000, 1))\n",
        "\n",
        "final_out = np.array([])\n",
        "reshaped_array = np.array([])\n",
        "\n",
        "# Iterate over the test dataset\n",
        "for (X, y, seq_length) in test_dataset:\n",
        "\n",
        "    \n",
        "    preds = rnn_model.predict(X, seq_length, False)\n",
        "\n",
        "    \n",
        "    preds = tf.nn.softmax(preds)\n",
        "\n",
        "    \n",
        "    predicted_label = tf.argmax(preds, axis=1)\n",
        "\n",
        "    \n",
        "    final_out = np.concatenate([final_out, predicted_label], axis=0)\n",
        "\n",
        "    \n",
        "    reshaped_array = np.concatenate([reshaped_array, y], 0)\n",
        "# Plot the confusion matrix\n",
        "concatenated_tensor = tf.convert_to_tensor(final_out,dtype=tf.int64)\n",
        "indices = np.arange(10)\n",
        "predictions = indices[concatenated_tensor.numpy()]\n",
        "average = np.add(average,predictions)"
      ],
      "metadata": {
        "id": "WxLVDIrSbP9t"
      },
      "execution_count": null,
      "outputs": []
    },
    {
      "cell_type": "code",
      "source": [
        "\n",
        "\n",
        "new_average = sp.csr_matrix(average)\n",
        "new_average = new_average/5.0\n",
        "average = new_average.toarray()"
      ],
      "metadata": {
        "id": "fEXHLrT5comE"
      },
      "execution_count": null,
      "outputs": []
    },
    {
      "cell_type": "code",
      "source": [
        "plot_confusion_matrix(reshaped_array, final_out, labels=class_names, figsize=(4, 4))"
      ],
      "metadata": {
        "id": "NJM3l4wFcobW"
      },
      "execution_count": null,
      "outputs": []
    },
    {
      "cell_type": "code",
      "source": [
        "from sklearn.metrics import classification_report\n",
        "\n",
        "# Print classification report\n",
        "print(classification_report(reshaped_array, final_out, target_names=class_names))"
      ],
      "metadata": {
        "id": "4CtGupO9nBQX"
      },
      "execution_count": null,
      "outputs": []
    },
    {
      "cell_type": "markdown",
      "metadata": {
        "id": "7HloeEKJP7Ub"
      },
      "source": [
        "### Performance comparison\n",
        "---"
      ]
    },
    {
      "cell_type": "code",
      "source": [
        "### Create a predict function and test on test_dataset for LSTM\n",
        "# TODO\n",
        "lstm_model.predict_fc(test_dataset)"
      ],
      "metadata": {
        "id": "5SzvUSWWf3xF",
        "colab": {
          "base_uri": "https://localhost:8080/"
        },
        "outputId": "433b6319-dad0-4b4b-a5b2-1fb2347fc23e"
      },
      "execution_count": null,
      "outputs": [
        {
          "output_type": "stream",
          "name": "stdout",
          "text": [
            "test_accuracy %d tf.Tensor(0.85824, shape=(), dtype=float32)\n"
          ]
        }
      ]
    },
    {
      "cell_type": "code",
      "execution_count": null,
      "metadata": {
        "id": "LW-exJpxP7Ub"
      },
      "outputs": [],
      "source": [
        "f, (ax1, ax2) = plt.subplots(1, 2, sharey=True, figsize=(10, 4))\n",
        "ax1.plot(range(len(lstm_model.history['train_acc'])), lstm_model.history['train_acc'], \n",
        "         label='LSTM Train Accuracy');\n",
        "ax1.plot(range(len(lstm_model.history['eval_acc'])), lstm_model.history['eval_acc'], \n",
        "         label='LSTM Val Accuracy');\n",
        "ax2.plot(range(len(rnn_model.history['train_acc'])), rnn_model.history['train_acc'],\n",
        "         label='RNN Train Accuracy');\n",
        "ax2.plot(range(len(rnn_model.history['eval_acc'])), rnn_model.history['eval_acc'],\n",
        "         label='RNN Val Accuracy');\n",
        "ax1.legend();\n",
        "ax2.legend();\n",
        "\n",
        "\n",
        "### Both Model overfits -- "
      ]
    },
    {
      "cell_type": "markdown",
      "metadata": {
        "id": "XrMkRP-0P7Ub"
      },
      "source": [
        "## Test network on new samples\n",
        "---\n",
        "\n"
      ]
    },
    {
      "cell_type": "code",
      "execution_count": null,
      "metadata": {
        "id": "nXSOpyz0P7Uc"
      },
      "outputs": [],
      "source": [
        "###############################################################\n",
        "# Import/download necessary libraries to process new sequences\n",
        "###############################################################\n",
        "import nltk\n",
        "try:\n",
        "    nltk.data.find('tokenizers/punkt')\n",
        "except LookupError:\n",
        "    nltk.download('punkt')\n",
        "from nltk.tokenize import word_tokenize\n",
        "import re"
      ]
    },
    {
      "cell_type": "code",
      "execution_count": null,
      "metadata": {
        "id": "5zDt0vVlP7Uc"
      },
      "outputs": [],
      "source": [
        "def process_new_review(review):\n",
        "    '''Function to process a new review.\n",
        "       Args:\n",
        "           review: original text review, string.\n",
        "       Returns:\n",
        "           indexed_review: sequence of integers, words correspondence \n",
        "                           from word2idx.\n",
        "           seq_length: the length of the review.\n",
        "    '''\n",
        "    indexed_review = re.sub(r'<[^>]+>', ' ', review)\n",
        "    indexed_review = word_tokenize(indexed_review)\n",
        "    indexed_review = [word2idx[word] if word in list(word2idx.keys()) else \n",
        "                      word2idx['Unknown_token'] for word in indexed_review]\n",
        "    indexed_review = indexed_review + [word2idx['End_token']]\n",
        "    seq_length = len(indexed_review)    \n",
        "    return indexed_review, seq_length"
      ]
    },
    {
      "cell_type": "code",
      "execution_count": null,
      "metadata": {
        "id": "8ZmRTbHCP7Uc"
      },
      "outputs": [],
      "source": [
        "sent_dict = {0: 'negative', 1: 'positive'}"
      ]
    },
    {
      "cell_type": "code",
      "execution_count": null,
      "metadata": {
        "id": "lo8W4xfdP7Uc"
      },
      "outputs": [],
      "source": [
        "review_score_10 = \"I think Bad Apples is a great time and I recommend! I enjoyed the opening, which gave way for the rest of the movie to occur. The main couple was very likable and I believed all of their interactions. They had great onscreen chemistry and made me laugh quite a few times! Keeping the girls in the masks but seeing them in action was something I loved. It kept a mystery to them throughout. I think the dialogue was great. The kills were fun. And the special surprise gore effect at the end was AWESOME!! I won't spoil that part ;) I also enjoyed how the movie wrapped up. It gave a very urban legends type feel of \\\"did you ever hear the story...\\\". Plus is leaves the door open for another film which I wouldn't mind at all. Long story short, I think if you take the film for what it is; a fun little horror flick, then you won't be disappointed! HaPpY eArLy HaLLoWeEn!\""
      ]
    },
    {
      "cell_type": "code",
      "execution_count": null,
      "metadata": {
        "id": "jL2PWrzPP7Uc"
      },
      "outputs": [],
      "source": [
        "review_score_4 = \"A young couple comes to a small town, where the husband get a job working in a hospital. The wife which you instantly hate or dislike works home, at the same time a horrible murders takes place in this small town by two masked killers. Bad Apples is just your tipical B-horror movie with average acting (I give them that. Altough you may get the idea that some of the actors are crazy-convervative Christians), but the script is just bad, and that's what destroys the film.\""
      ]
    },
    {
      "cell_type": "code",
      "execution_count": null,
      "metadata": {
        "id": "dGJG7F6kP7Uc"
      },
      "outputs": [],
      "source": [
        "review_score_1 = \"When you first start watching this movie, you can tell its going to be a painful ride. the audio is poor...the attacks by the \\\"girls\\\" are like going back in time, to watching the old rocky films, were blows never touched. the editing is poor with it aswell, example the actress in is the bath when her husband comes home, clearly you see her wearing a flesh coloured bra in the bath. no hints or spoilers, just wait till you find it in a bargain basket of cheap dvds in a couple of weeks\""
      ]
    },
    {
      "cell_type": "code",
      "execution_count": null,
      "metadata": {
        "id": "M-hrh4LCP7Ud"
      },
      "outputs": [],
      "source": [
        "new_reviews = [review_score_10, review_score_4, review_score_1]\n",
        "scores = [10, 4, 1]"
      ]
    },
    {
      "cell_type": "code",
      "execution_count": null,
      "metadata": {
        "id": "OvVuzgTwP7Ud",
        "outputId": "352b6546-839f-4e00-9b78-3bc0684d91c9",
        "colab": {
          "base_uri": "https://localhost:8080/"
        }
      },
      "outputs": [
        {
          "output_type": "stream",
          "name": "stdout",
          "text": [
            "The sentiment for the review with score 10 was found to be positive\n",
            "The sentiment for the review with score 4 was found to be negative\n",
            "The sentiment for the review with score 1 was found to be negative\n"
          ]
        }
      ],
      "source": [
        "## With LSTM\n",
        "\n",
        "with tf.device(device):\n",
        "    for original_review, score in zip(new_reviews, scores):\n",
        "        indexed_review, seq_length = process_new_review(original_review)\n",
        "        indexed_review = tf.reshape(tf.constant(indexed_review), (1,-1))\n",
        "        seq_length = tf.reshape(tf.constant(seq_length), (1,))\n",
        "        logits = lstm_model.predict(indexed_review, seq_length, False)\n",
        "        logits = tf.nn.softmax(logits)\n",
        "        pred = tf.argmax(logits, axis=1).numpy()[0]\n",
        "        print('The sentiment for the review with score %d was found to be %s'\n",
        "              %(score, sent_dict[pred]))"
      ]
    },
    {
      "cell_type": "code",
      "source": [
        "## With RNN\n",
        "\n",
        "with tf.device(device):\n",
        "    for original_review, score in zip(new_reviews, scores):\n",
        "        indexed_review, seq_length = process_new_review(original_review)\n",
        "        indexed_review = tf.reshape(tf.constant(indexed_review), (1,-1))\n",
        "        seq_length = tf.reshape(tf.constant(seq_length), (1,))\n",
        "        logits = rnn_model.predict(indexed_review, seq_length, False)\n",
        "        logits = tf.nn.softmax(logits)\n",
        "        pred = tf.argmax(logits, axis=1).numpy()[0]\n",
        "        print('The sentiment for the review with score %d was found to be %s'\n",
        "              %(score, sent_dict[pred]))"
      ],
      "metadata": {
        "colab": {
          "base_uri": "https://localhost:8080/"
        },
        "id": "XrUvYrdpt_SI",
        "outputId": "4c3afec4-7048-4cb4-a8d2-08d7963b6581"
      },
      "execution_count": null,
      "outputs": [
        {
          "output_type": "stream",
          "name": "stdout",
          "text": [
            "The sentiment for the review with score 10 was found to be positive\n",
            "The sentiment for the review with score 4 was found to be negative\n",
            "The sentiment for the review with score 1 was found to be negative\n"
          ]
        }
      ]
    }
  ],
  "metadata": {
    "colab": {
      "provenance": [],
      "include_colab_link": true
    },
    "kernelspec": {
      "display_name": "Python 3",
      "language": "python",
      "name": "python3"
    },
    "language_info": {
      "codemirror_mode": {
        "name": "ipython",
        "version": 3
      },
      "file_extension": ".py",
      "mimetype": "text/x-python",
      "name": "python",
      "nbconvert_exporter": "python",
      "pygments_lexer": "ipython3",
      "version": "3.6.4"
    },
    "gpuClass": "standard"
  },
  "nbformat": 4,
  "nbformat_minor": 0
}